{
 "cells": [
  {
   "cell_type": "code",
   "execution_count": null,
   "id": "51e082d5",
   "metadata": {},
   "outputs": [],
   "source": [
    "# imports\n",
    "import csv\n",
    "import pysam\n",
    "from pathlib import Path"
   ]
  },
  {
   "cell_type": "code",
   "execution_count": null,
   "id": "03ddc132-2ec5-4188-ad26-9a16d0b80d55",
   "metadata": {},
   "outputs": [],
   "source": [
    "def get_bam_stats(bamfile):\n",
    "    \"\"\"Read alignment stats from BAM file\"\"\"\n",
    "    bam_stats = {}\n",
    "    bam_stats[\"all_primary_alignments\"] = int(pysam.view(\"-c\", \"-F\", \"256\", bamfile))\n",
    "    bam_stats[\"all_mapped_pairs\"] = int(pysam.view(\"-c\", \"-F\", \"256\", \"-F\", \"8\", bamfile))\n",
    "    bam_stats[\"proper_pairs\"] = int(pysam.view(\"-c\", \"-f\", \"2\", bamfile))\n",
    "    bam_stats[\"proper_pairs_unique\"] = int(pysam.view(\"-c\", \"-f\", \"2\", \"-q\", \"1\", bamfile))\n",
    "    bam_stats[\"proper_pairs_unique_sense\"] = int(pysam.view(\"-c\", \"-f\", \"2\", \"-q\", \"1\", \"-f\", \"64\", \"-F\", \"16\", bamfile)) * 2\n",
    "    bam_stats[\"proper_pairs_unique_antisense\"] = int(pysam.view(\"-c\", \"-f\", \"2\", \"-q\", \"1\", \"-f\", \"64\", \"-f\", \"16\", bamfile)) * 2\n",
    "    return(bam_stats)"
   ]
  },
  {
   "cell_type": "code",
   "execution_count": null,
   "id": "331aebdc-4df5-438c-b499-bbae100aafde",
   "metadata": {},
   "outputs": [],
   "source": [
    "def get_human_rna_total(sample):\n",
    "    \"\"\"Read human gene counts and report sum for the sample\"\"\"\n",
    "    sample_filenames = list(filter(lambda x: sample in x, snakemake.input.human_small_rna))\n",
    "    assert len(sample_filenames), 1\n",
    "    gene_count_filename = sample_filenames[0]\n",
    "    count = 0\n",
    "    with open(gene_count_filename) as file:\n",
    "        tsv_file = csv.reader(file, delimiter=\"\\t\")\n",
    "        for line in tsv_file:\n",
    "            count = count + int(line[1])\n",
    "    return(count)"
   ]
  },
  {
   "cell_type": "code",
   "execution_count": null,
   "id": "98d16d38-016f-4971-a3b6-c07bcbd376f5",
   "metadata": {},
   "outputs": [],
   "source": [
    "stats = {}\n",
    "with open(snakemake.output[0], \"w\") as output:\n",
    "    header_line = \"sample\\talignment category\\treads (individual alignments)\\tfragments (read pairs)\\thuman small rna fragments\"\n",
    "    output.write(f\"{header_line}\\n\")\n",
    "    print(header_line)\n",
    "    for filename in (snakemake.input.bam):\n",
    "        sample_unit = Path(filename).stem\n",
    "        stats[filename] = get_bam_stats(filename)\n",
    "        for stat, read_count in stats[filename].items():\n",
    "            if stat == \"all_primary_alignments\":\n",
    "                fragment_count = None\n",
    "            else:\n",
    "                fragment_count = int(read_count / 2)\n",
    "            human_small_rna_count = get_human_rna_total(sample_unit)\n",
    "            output_line = f\"{sample_unit}\\t{stat}\\t{read_count}\\t{fragment_count}\\t{human_small_rna_count}\"\n",
    "            output.write(f\"{output_line}\\n\")\n",
    "            print(output_line)"
   ]
  },
  {
   "cell_type": "code",
   "execution_count": null,
   "id": "d8a76913-a524-4236-b21d-407a769a1fbb",
   "metadata": {},
   "outputs": [],
   "source": []
  }
 ],
 "metadata": {
  "kernelspec": {
   "display_name": "Python 3 (ipykernel)",
   "language": "python",
   "name": "python3"
  },
  "language_info": {
   "codemirror_mode": {
    "name": "ipython",
    "version": 3
   },
   "file_extension": ".py",
   "mimetype": "text/x-python",
   "name": "python",
   "nbconvert_exporter": "python",
   "pygments_lexer": "ipython3",
   "version": "3.10.13"
  }
 },
 "nbformat": 4,
 "nbformat_minor": 5
}
