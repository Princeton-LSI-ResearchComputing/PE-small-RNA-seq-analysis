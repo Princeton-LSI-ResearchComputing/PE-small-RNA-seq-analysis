{
 "cells": [
  {
   "cell_type": "code",
   "execution_count": null,
   "id": "51e082d5",
   "metadata": {},
   "outputs": [],
   "source": [
    "# imports\n",
    "import pysam\n",
    "from pathlib import Path"
   ]
  },
  {
   "cell_type": "code",
   "execution_count": null,
   "id": "03ddc132-2ec5-4188-ad26-9a16d0b80d55",
   "metadata": {},
   "outputs": [],
   "source": [
    "def get_bam_stats(bamfile):\n",
    "    \"\"\"Read alignment stats from BAM file\"\"\"\n",
    "    bam_stats = {}\n",
    "    bam_stats[\"all_primary_alignments\"] = int(pysam.view(\"-c\", \"-F\", \"256\", bamfile))\n",
    "    bam_stats[\"all_mapped_pairs\"] = int(pysam.view(\"-c\", \"-F\", \"256\", \"-F\", \"8\", bamfile))\n",
    "    bam_stats[\"proper_pairs\"] = int(pysam.view(\"-c\", \"-f\", \"2\", bamfile))\n",
    "    bam_stats[\"proper_pairs_unique\"] = int(pysam.view(\"-c\", \"-f\", \"2\", \"-q\", \"1\", bamfile))\n",
    "    bam_stats[\"proper_pairs_unique_sense\"] = int(pysam.view(\"-c\", \"-f\", \"2\", \"-q\", \"1\", \"-f\", \"64\", \"-F\", \"16\", bamfile)) * 2\n",
    "    bam_stats[\"proper_pairs_unique_antisense\"] = int(pysam.view(\"-c\", \"-f\", \"2\", \"-q\", \"1\", \"-f\", \"64\", \"-f\", \"16\", bamfile)) * 2\n",
    "    return(bam_stats)"
   ]
  },
  {
   "cell_type": "code",
   "execution_count": null,
   "id": "98d16d38-016f-4971-a3b6-c07bcbd376f5",
   "metadata": {},
   "outputs": [],
   "source": [
    "stats = {}\n",
    "with open(snakemake.output[0], \"w\") as output:\n",
    "    output.write(\"sample\\talignment category\\treads (individual alignments)\\tfragments (read pairs)\\n\")\n",
    "    for filename in (snakemake.input.bam):\n",
    "        stats[filename] = get_bam_stats(filename)\n",
    "        for stat, read_count in stats[filename].items():\n",
    "            if stat == \"all_primary_alignments\":\n",
    "                fragment_count = None\n",
    "            else:\n",
    "                fragment_count = int(read_count / 2)\n",
    "            output_line = f\"{Path(filename).stem}\\t{stat}\\t{read_count}\\t{fragment_count}\"\n",
    "            output.write(f\"{output_line}\\n\")\n",
    "            print(output_line)"
   ]
  }
 ],
 "metadata": {
  "kernelspec": {
   "display_name": "Python 3 (ipykernel)",
   "language": "python",
   "name": "python3"
  },
  "language_info": {
   "codemirror_mode": {
    "name": "ipython",
    "version": 3
   },
   "file_extension": ".py",
   "mimetype": "text/x-python",
   "name": "python",
   "nbconvert_exporter": "python",
   "pygments_lexer": "ipython3",
   "version": "3.10.13"
  }
 },
 "nbformat": 4,
 "nbformat_minor": 5
}
